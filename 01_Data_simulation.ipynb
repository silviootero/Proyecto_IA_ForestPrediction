{
  "nbformat": 4,
  "nbformat_minor": 0,
  "metadata": {
    "colab": {
      "provenance": []
    },
    "kernelspec": {
      "name": "python3",
      "display_name": "Python 3"
    },
    "language_info": {
      "name": "python"
    }
  },
  "cells": [
    {
      "cell_type": "code",
      "execution_count": null,
      "metadata": {
        "id": "HuRO4vO_dn1j"
      },
      "outputs": [],
      "source": [
        "import pandas as pd\n",
        "import matplotlib.pyplot as plt\n",
        "import numpy as np"
      ]
    },
    {
      "cell_type": "code",
      "source": [
        "# URL del archivo .csv en GitHub\n",
        "url = 'https://github.com/silviootero/Proyecto_IA_ForestPrediction/blob/d18d76f20ebcc38402b4d0718ef7933b674badc7/data.csv'\n",
        "\n",
        "# URL cruda del archivo .csv\n",
        "url_raw = 'https://raw.githubusercontent.com/silviootero/Proyecto_IA_ForestPrediction/blob/d18d76f20ebcc38402b4d0718ef7933b674badc7/data.csv'\n",
        "\n",
        "# Lee el archivo .csv\n",
        "df = pd.read_csv(url_raw)\n",
        "\n"
      ],
      "metadata": {
        "id": "gXcgO9sfVPRd"
      },
      "execution_count": null,
      "outputs": []
    },
    {
      "cell_type": "code",
      "source": [
        "df.head()"
      ],
      "metadata": {
        "id": "n7XdH7gDdwt2"
      },
      "execution_count": null,
      "outputs": []
    },
    {
      "cell_type": "code",
      "source": [
        "num_filas = df[\"id\"].size"
      ],
      "metadata": {
        "id": "ney-n4IL1Hqw"
      },
      "execution_count": null,
      "outputs": []
    },
    {
      "cell_type": "code",
      "source": [
        "num_col = df.iloc[0].size #Numero de columnas"
      ],
      "metadata": {
        "id": "VNGN6ei49eWl"
      },
      "execution_count": null,
      "outputs": []
    },
    {
      "cell_type": "code",
      "source": [
        "print(\"Numero de filas: {0} - Numero de columnas {1}\".format(num_filas,num_col))"
      ],
      "metadata": {
        "id": "DXCgPI4u9dpv"
      },
      "execution_count": null,
      "outputs": []
    },
    {
      "cell_type": "code",
      "source": [
        "df_info = df.info()"
      ],
      "metadata": {
        "id": "wdmjwSFZ9pAn"
      },
      "execution_count": null,
      "outputs": []
    },
    {
      "cell_type": "code",
      "source": [
        "df_description = df.describe()\n",
        "df_description"
      ],
      "metadata": {
        "id": "n8cJ_mll9onm"
      },
      "execution_count": null,
      "outputs": []
    },
    {
      "cell_type": "code",
      "source": [
        "df.hist(figsize = (35,35), bins = 50)\n",
        "plt.show()"
      ],
      "metadata": {
        "id": "DtgrhEeY9z6R"
      },
      "execution_count": null,
      "outputs": []
    },
    {
      "cell_type": "code",
      "source": [
        "j = 0\n",
        "columns_df = df.columns\n",
        "dict_columns = {}\n",
        "for i in columns_df:\n",
        "    df.rename(columns={i:j},inplace=True)\n",
        "    dict_columns[j] = i\n",
        "    j += 1\n",
        "df"
      ],
      "metadata": {
        "id": "B5SfgjvE96et"
      },
      "execution_count": null,
      "outputs": []
    },
    {
      "cell_type": "code",
      "source": [
        "dict_columns"
      ],
      "metadata": {
        "id": "5MbHhY5B-AhE"
      },
      "execution_count": null,
      "outputs": []
    },
    {
      "cell_type": "code",
      "source": [
        "def column_to_discrete(column_df):\n",
        "    for i in range(len(column_df)):\n",
        "        if column_df[i]<=0.45:\n",
        "            column_df.loc[i] = \"Low\"\n",
        "        elif column_df[i] >= 0.55:\n",
        "            column_df.loc[i] = \"High\"\n",
        "        else:\n",
        "            column_df.loc[i] = \"Medium\""
      ],
      "metadata": {
        "id": "7pGhzYhv-GoH"
      },
      "execution_count": null,
      "outputs": []
    },
    {
      "cell_type": "code",
      "source": [
        "column_to_discrete(df[3])\n",
        "column_to_discrete(df[21])\n",
        "column_to_discrete(df[35])\n",
        "column_to_discrete(df[5])\n",
        "column_to_discrete(df[37])\n",
        "column_to_discrete(df[75])\n",
        "column_to_discrete(df[81])\n",
        "column_to_discrete(df[65])\n",
        "column_to_discrete(df[82])\n",
        "column_to_discrete(df[56])"
      ],
      "metadata": {
        "id": "BLmS60SR-QFZ"
      },
      "execution_count": null,
      "outputs": []
    },
    {
      "cell_type": "code",
      "source": [
        "black_list = [0,3,21,35,5,37,75,81,65,82,56,94]"
      ],
      "metadata": {
        "id": "rQt5pqOo-Vol"
      },
      "execution_count": null,
      "outputs": []
    },
    {
      "cell_type": "code",
      "source": [
        "num = -1\n",
        "i = 0\n",
        "while True:\n",
        "    num = np.random.randint(0,high=96)\n",
        "    if num not in black_list:\n",
        "        df.loc[200:700,num] = np.nan\n",
        "        i += 1\n",
        "    if i == 3:\n",
        "        break"
      ],
      "metadata": {
        "id": "Jsp4QsIl-a7y"
      },
      "execution_count": null,
      "outputs": []
    },
    {
      "cell_type": "code",
      "source": [
        "j = 0\n",
        "columns_df = df.columns\n",
        "for i in columns_df:\n",
        "    df.rename(columns={i:dict_columns[i]},inplace=True)\n",
        "    j += 1\n",
        "df"
      ],
      "metadata": {
        "id": "Y7JHkXLJ-gFy"
      },
      "execution_count": null,
      "outputs": []
    },
    {
      "cell_type": "code",
      "source": [
        "list_na = df.columns[df.isna().any()].tolist()"
      ],
      "metadata": {
        "id": "aGRQ2xvy-lRx"
      },
      "execution_count": null,
      "outputs": []
    },
    {
      "cell_type": "code",
      "source": [
        "list_na"
      ],
      "metadata": {
        "id": "qyKzg5Gg-t9i"
      },
      "execution_count": null,
      "outputs": []
    },
    {
      "cell_type": "code",
      "source": [
        "!pip install pyarrow"
      ],
      "metadata": {
        "id": "v8QN-WQ7-yWK"
      },
      "execution_count": null,
      "outputs": []
    },
    {
      "cell_type": "code",
      "source": [
        "!pip install fastparquet"
      ],
      "metadata": {
        "id": "MgPfViom-3P7"
      },
      "execution_count": null,
      "outputs": []
    },
    {
      "cell_type": "code",
      "source": [
        "df.to_parquet('raw_data.parquet',index=False)"
      ],
      "metadata": {
        "id": "BAjHBCHh-7Uw"
      },
      "execution_count": null,
      "outputs": []
    }
  ]
}