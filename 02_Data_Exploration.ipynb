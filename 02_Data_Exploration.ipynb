{
  "nbformat": 4,
  "nbformat_minor": 0,
  "metadata": {
    "colab": {
      "provenance": [],
      "authorship_tag": "ABX9TyMeh+PmVLIrDizEStpti4L7",
      "include_colab_link": true
    },
    "kernelspec": {
      "name": "python3",
      "display_name": "Python 3"
    },
    "language_info": {
      "name": "python"
    }
  },
  "cells": [
    {
      "cell_type": "markdown",
      "metadata": {
        "id": "view-in-github",
        "colab_type": "text"
      },
      "source": [
        "<a href=\"https://colab.research.google.com/github/silviootero/Proyecto_IA_ForestPrediction/blob/main/02_Data_Exploration.ipynb\" target=\"_parent\"><img src=\"https://colab.research.google.com/assets/colab-badge.svg\" alt=\"Open In Colab\"/></a>"
      ]
    },
    {
      "cell_type": "code",
      "execution_count": null,
      "metadata": {
        "id": "iUTeeESyyKgl"
      },
      "outputs": [],
      "source": [
        "import pandas as pd\n",
        "import matplotlib.pyplot as plt\n",
        "import seaborn as sns\n",
        "import numpy as np\n",
        "import warnings\n",
        "warnings.filterwarnings('always')\n",
        "%matplotlib inline"
      ]
    },
    {
      "cell_type": "markdown",
      "source": [
        "**Información del dataframe**"
      ],
      "metadata": {
        "id": "OJkZCVQtyoBf"
      }
    },
    {
      "cell_type": "code",
      "source": [
        "!pip install pyarrow"
      ],
      "metadata": {
        "id": "rS1vfC2uyauk"
      },
      "execution_count": null,
      "outputs": []
    },
    {
      "cell_type": "code",
      "source": [
        "!pip install fastparquet"
      ],
      "metadata": {
        "id": "mkN6PNrxyaj1"
      },
      "execution_count": null,
      "outputs": []
    },
    {
      "cell_type": "code",
      "source": [
        "\n",
        "df = pd.read_parquet(\"https://mlearner.s3.amazonaws.com/data/raw_data.parquet\")\n",
        "df.head()"
      ],
      "metadata": {
        "id": "TTDVNH-pyaZd"
      },
      "execution_count": null,
      "outputs": []
    },
    {
      "cell_type": "markdown",
      "source": [
        "**Tamaño del dataset**"
      ],
      "metadata": {
        "id": "h_qvRfIAzMCl"
      }
    },
    {
      "cell_type": "code",
      "source": [
        "print(df.shape)"
      ],
      "metadata": {
        "id": "dh3BJdUCyaIO"
      },
      "execution_count": null,
      "outputs": []
    },
    {
      "cell_type": "code",
      "source": [
        "na_values = df.isna().sum()\n",
        "na_values[na_values != 0]"
      ],
      "metadata": {
        "id": "3bVTjN1SzXVO"
      },
      "execution_count": null,
      "outputs": []
    },
    {
      "cell_type": "code",
      "source": [
        "sns.histplot(df[\"id\"]);"
      ],
      "metadata": {
        "id": "jHsHkUWezXJE"
      },
      "execution_count": null,
      "outputs": []
    },
    {
      "cell_type": "code",
      "source": [
        "df.columns"
      ],
      "metadata": {
        "id": "WmMoicWQzW60"
      },
      "execution_count": null,
      "outputs": []
    },
    {
      "cell_type": "code",
      "source": [
        "df.info()"
      ],
      "metadata": {
        "id": "zIb5_qotzisW"
      },
      "execution_count": null,
      "outputs": []
    },
    {
      "cell_type": "code",
      "source": [
        "df._get_numeric_data().describe().T"
      ],
      "metadata": {
        "id": "rDa9OoC_zlSV"
      },
      "execution_count": null,
      "outputs": []
    },
    {
      "cell_type": "code",
      "source": [
        "\n",
        "correlation_matrix = df.corr()\n",
        "d, ax = plt.subplots(figsize=(12,9))\n",
        "sns.heatmap(correlation_matrix,vmax=8,square=True);"
      ],
      "metadata": {
        "id": "AHu1ZrQgzoQw"
      },
      "execution_count": null,
      "outputs": []
    },
    {
      "cell_type": "code",
      "source": [
        "categorical_columns = [i for i in df.columns if not i in df._get_numeric_data()]\n",
        "print(categorical_columns)"
      ],
      "metadata": {
        "id": "HxI9BLh_zq9N"
      },
      "execution_count": null,
      "outputs": []
    },
    {
      "cell_type": "code",
      "source": [
        "for c in categorical_columns:\n",
        "    print (\"%10s\"%c, np.unique(df[c].dropna()))"
      ],
      "metadata": {
        "id": "s3VPkZQ5ztud"
      },
      "execution_count": null,
      "outputs": []
    },
    {
      "cell_type": "code",
      "source": [
        "for column in categorical_columns:\n",
        "    print(df[column].value_counts())"
      ],
      "metadata": {
        "id": "QH9aDoO7zwGV"
      },
      "execution_count": null,
      "outputs": []
    },
    {
      "cell_type": "code",
      "source": [
        "plt.figure(figsize=(20,8))\n",
        "for i,c in enumerate(categorical_columns):    \n",
        "    plt.subplot(3,5,i+1)\n",
        "    k=df[[c,\"id\"]].dropna()\n",
        "    for v in df[c].dropna().unique():\n",
        "        sns.histplot(k['id'][k[c]==v], label=v,kde=True, stat=\"density\", linewidth=0);\n",
        "        plt.title(c)\n",
        "    plt.yticks([])\n",
        "    plt.legend()\n",
        "    plt.subplot(3,5,i+5)\n",
        "    vc = k[c].value_counts()\n",
        "    sns.barplot(vc.index, vc.values)    \n",
        "    plt.xticks(range(len(vc)), vc.index, rotation=\"vertical\")\n",
        "    plt.tight_layout()"
      ],
      "metadata": {
        "id": "xP0olm5yzyF9"
      },
      "execution_count": null,
      "outputs": []
    },
    {
      "cell_type": "code",
      "source": [],
      "metadata": {
        "id": "uYfCxdF0z18P"
      },
      "execution_count": null,
      "outputs": []
    }
  ]
}