{
  "nbformat": 4,
  "nbformat_minor": 0,
  "metadata": {
    "colab": {
      "provenance": [],
      "authorship_tag": "ABX9TyM+pJmyT1hDvvTStOlTk+ts",
      "include_colab_link": true
    },
    "kernelspec": {
      "name": "python3",
      "display_name": "Python 3"
    },
    "language_info": {
      "name": "python"
    }
  },
  "cells": [
    {
      "cell_type": "markdown",
      "metadata": {
        "id": "view-in-github",
        "colab_type": "text"
      },
      "source": [
        "<a href=\"https://colab.research.google.com/github/silviootero/Proyecto_IA_ForestPrediction/blob/main/02_Data_cleaning.ipynb\" target=\"_parent\"><img src=\"https://colab.research.google.com/assets/colab-badge.svg\" alt=\"Open In Colab\"/></a>"
      ]
    },
    {
      "cell_type": "code",
      "execution_count": null,
      "metadata": {
        "id": "v7UCmMDkiwT9"
      },
      "outputs": [],
      "source": [
        "import pandas as pd\n",
        "import matplotlib.pyplot as plt\n",
        "import seaborn as sns\n",
        "import numpy as np\n",
        "import warnings\n",
        "warnings.simplefilter(action=\"ignore\", category=FutureWarning)\n",
        "%matplotlib inline"
      ]
    },
    {
      "cell_type": "code",
      "source": [
        "!pip install pyarrow"
      ],
      "metadata": {
        "id": "oMUQPhuijGSV"
      },
      "execution_count": null,
      "outputs": []
    },
    {
      "cell_type": "code",
      "source": [
        "!pip install fastparquet"
      ],
      "metadata": {
        "id": "mrqmRuDwmW2r"
      },
      "execution_count": null,
      "outputs": []
    },
    {
      "cell_type": "code",
      "source": [
        "df = pd.read_parquet('https://mlearner.s3.amazonaws.com/data/raw_data.parquet')\n",
        "df.head()"
      ],
      "metadata": {
        "id": "AT4qukFbmkVM"
      },
      "execution_count": null,
      "outputs": []
    },
    {
      "cell_type": "code",
      "source": [
        "k = df.isna().sum()\n",
        "k[k!=0]"
      ],
      "metadata": {
        "id": "41d-_kp2mqGk"
      },
      "execution_count": null,
      "outputs": []
    },
    {
      "cell_type": "code",
      "source": [
        "list_na = df.columns[df.isna().any()].tolist()\n",
        "list_na"
      ],
      "metadata": {
        "id": "Oh4Lown3nMAO"
      },
      "execution_count": null,
      "outputs": []
    },
    {
      "cell_type": "code",
      "source": [
        "for i in list_na:\n",
        "    df[i].fillna(df[i].mean(),inplace=True)"
      ],
      "metadata": {
        "id": "_l7aapfQz3SR"
      },
      "execution_count": null,
      "outputs": []
    },
    {
      "cell_type": "code",
      "source": [
        "def to_onehot(x):\n",
        "    values = np.unique(x)\n",
        "    r = np.r_[[np.argwhere(i==values)[0][0] for i in x]]\n",
        "    return np.eye(len(values))[r].astype(int)\n",
        "\n",
        "def replace_column_with_onehot(df, col):\n",
        "    assert sum(df[col].isna())==0, \"column must have no NaN values\"\n",
        "    values = np.unique(df[col]\n",
        "                      )\n",
        "    k = to_onehot(df[col].values)\n",
        "    r = pd.DataFrame(k, columns=[\"%s_%s\"%(col, values[i]) for i in range(k.shape[1])], index=df.index).join(df)\n",
        "    del(r[col])\n",
        "    return r"
      ],
      "metadata": {
        "id": "WWocc-ikz4dN"
      },
      "execution_count": null,
      "outputs": []
    },
    {
      "cell_type": "code",
      "source": [
        "list_cat = [i for i in df.columns if not i in df._get_numeric_data()]\n",
        "list_cat"
      ],
      "metadata": {
        "id": "RslPeAuJz_cd"
      },
      "execution_count": null,
      "outputs": []
    },
    {
      "cell_type": "code",
      "source": [
        "print(len(list_cat))"
      ],
      "metadata": {
        "id": "jk0eszMp0EzG"
      },
      "execution_count": null,
      "outputs": []
    },
    {
      "cell_type": "code",
      "source": [
        "for i in list_cat:\n",
        "    df_aux = pd.get_dummies(df[i], prefix=i)\n",
        "    df.drop(i,inplace=True,axis=1)\n",
        "    df = df.join(df_aux)"
      ],
      "metadata": {
        "id": "LbscHjfh0Lta"
      },
      "execution_count": null,
      "outputs": []
    },
    {
      "cell_type": "code",
      "source": [
        "df.head()"
      ],
      "metadata": {
        "id": "GDZ0n0sD0ejZ"
      },
      "execution_count": null,
      "outputs": []
    },
    {
      "cell_type": "code",
      "source": [
        "[i for i in df.columns if not i in df._get_numeric_data()]"
      ],
      "metadata": {
        "id": "qhIEutcR0ieh"
      },
      "execution_count": null,
      "outputs": []
    },
    {
      "cell_type": "code",
      "source": [
        "\n",
        "df.to_parquet('clean_data.parquet',index=False)"
      ],
      "metadata": {
        "id": "H__DLwTR08mG"
      },
      "execution_count": null,
      "outputs": []
    }
  ]
}
